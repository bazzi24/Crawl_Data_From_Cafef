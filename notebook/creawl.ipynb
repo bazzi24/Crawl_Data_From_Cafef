{
 "cells": [
  {
   "cell_type": "markdown",
   "id": "acebacb0",
   "metadata": {},
   "source": [
    "### Add Import"
   ]
  },
  {
   "cell_type": "code",
   "execution_count": 1,
   "id": "2c3ef8b1",
   "metadata": {},
   "outputs": [],
   "source": [
    "import requests\n",
    "import csv\n",
    "import json\n",
    "from bs4 import BeautifulSoup\n",
    "import openpyxl #pyright: ignore"
   ]
  },
  {
   "cell_type": "markdown",
   "id": "822000d1",
   "metadata": {},
   "source": [
    "### Add URL"
   ]
  },
  {
   "cell_type": "code",
   "execution_count": 2,
   "id": "69ddeb42",
   "metadata": {},
   "outputs": [],
   "source": [
    "url = \"https://cafef.vn/du-lieu/hose/vcb-ngan-hang-thuong-mai-co-phan-ngoai-thuong-viet-nam.chn\""
   ]
  },
  {
   "cell_type": "markdown",
   "id": "15e336a4",
   "metadata": {},
   "source": [
    "### Get response from API"
   ]
  },
  {
   "cell_type": "code",
   "execution_count": 3,
   "id": "c6a05e17",
   "metadata": {},
   "outputs": [],
   "source": [
    "response = requests.get(url)\n",
    "soup = BeautifulSoup(response.content, 'html.parser')"
   ]
  },
  {
   "cell_type": "markdown",
   "id": "050d681e",
   "metadata": {},
   "source": [
    "### Find data you need from URL"
   ]
  },
  {
   "cell_type": "code",
   "execution_count": 4,
   "id": "902a5862",
   "metadata": {},
   "outputs": [
    {
     "name": "stdout",
     "output_type": "stream",
     "text": [
      "VCB\n",
      "15:15 T6, 04/07/2025\n",
      "58.40\n",
      "0.5 (0.86%)\n",
      "4,849,700\n",
      "57.9\n",
      "61.9\n",
      "53.9\n",
      "57.9\n",
      "58.8\n",
      "57.8\n",
      "Đơn vị giá: 1000 VNĐ\n",
      "660,789\n",
      "60.86 (Tỷ)\n",
      "22.27 (Tỷ)\n",
      "7.89 (%)\n"
     ]
    }
   ],
   "source": [
    "#Find data \n",
    "artical = soup.find('div', class_='symbol')\n",
    "print(artical.text.strip())\n",
    "artical2 = soup.find('div', id='time__update')\n",
    "print(artical2.text.strip())\n",
    "artical3 = soup.find('div', class_='dltlu-point up')\n",
    "print(artical3.text.strip())\n",
    "artical4 = soup.find('div', class_='dltlu-up green')\n",
    "print(artical4.text.strip())\n",
    "artical5 = soup.find('div', class_='v2')\n",
    "print(artical5.text.strip())\n",
    "artical6 = soup.find('div', class_='eq r')\n",
    "print(artical6.text.strip())\n",
    "artical7 = soup.find('div', class_='r pink')\n",
    "print(artical7.text.strip())\n",
    "artical8 = soup.find('div', class_='r fl')\n",
    "print(artical8.text.strip())\n",
    "artical9 = soup.find('div', class_='right eq')\n",
    "print(artical9.text.strip())\n",
    "artical10 = soup.find('div', class_='right up')\n",
    "print(artical10.text.strip())\n",
    "artical11 = soup.find('div', class_='right down')\n",
    "print(artical11.text.strip())\n",
    "artical12 = soup.find('div', class_='dltlnote')\n",
    "print(artical12.text.strip())\n",
    "artical13 = soup.find('div', id='foregin__buyvol')\n",
    "print(artical13.text.strip())\n",
    "artical14 = soup.find('div', id='foregin__buyval')\n",
    "print(artical14.text.strip())\n",
    "artical15 = soup.find('div', id='foregin__sellval')\n",
    "print(artical15.text.strip())\n",
    "artical16 = soup.find('div', id='foregin__room')\n",
    "print(artical16.text.strip())"
   ]
  },
  {
   "cell_type": "markdown",
   "id": "c6205e09",
   "metadata": {},
   "source": [
    "### Get data and push to csv"
   ]
  },
  {
   "cell_type": "code",
   "execution_count": 5,
   "id": "7c9ed346",
   "metadata": {},
   "outputs": [
    {
     "name": "stdout",
     "output_type": "stream",
     "text": [
      "Scraping data completed!\n"
     ]
    }
   ],
   "source": [
    "if response.status_code == 200:\n",
    "    soup = BeautifulSoup(response.content, 'html.parser')\n",
    "    \n",
    "    def get_text(selector):\n",
    "        el = soup.select_one(selector)\n",
    "        return el.text.strip() if el else ''\n",
    "\n",
    "    data = [\n",
    "        get_text('div.symbol'),\n",
    "        get_text('div#time__update'),\n",
    "        get_text('div.dltlu-point.up'),\n",
    "        get_text('div.dltlu-up.green'),\n",
    "        get_text('div.v2'),\n",
    "        get_text('div.eq.r'),\n",
    "        get_text('div.r.pink'),\n",
    "        get_text('div.r.fl'),\n",
    "        get_text('div.right.eq'),\n",
    "        get_text('div.right.up'),\n",
    "        get_text('div.right.down'),\n",
    "        get_text('div.dltlnote'),\n",
    "        get_text('div#foregin__buyvol'),\n",
    "        get_text('div#foregin__buyval'),\n",
    "        get_text('div#foregin__sellval'),\n",
    "        get_text('div#foregin__room')\n",
    "    ]\n",
    "    \n",
    "    headers = [\"Tên mã chứng khoán\", \"Cập nhật\", \"Giá kết thúc phiên\", \"Giá so với tham chiếu\", \n",
    "               \"Khối lượng\", \"Giá tham chiếu\", \"Giá trần\", \"Giá sàn\", \"Giá mở cửa\", \"Giá cao nhất\", \n",
    "               \"Giá thấp nhất\", \"Đơn vị\", \"KLGD ròng\", \"GT mua\", \"GT bán\", \"Room còn lại\"]\n",
    "    \n",
    "    with open('vcb_data.csv', 'w', newline='', encoding='utf-8') as file:\n",
    "        writer = csv.writer(file)\n",
    "        writer.writerow(headers)\n",
    "        writer.writerow(data)\n",
    "    print(\"Scraping data completed!\")\n",
    "\n",
    "else:\n",
    "    print(\"Scraping data failed!\")"
   ]
  }
 ],
 "metadata": {
  "kernelspec": {
   "display_name": "venv",
   "language": "python",
   "name": "python3"
  },
  "language_info": {
   "codemirror_mode": {
    "name": "ipython",
    "version": 3
   },
   "file_extension": ".py",
   "mimetype": "text/x-python",
   "name": "python",
   "nbconvert_exporter": "python",
   "pygments_lexer": "ipython3",
   "version": "3.12.3"
  }
 },
 "nbformat": 4,
 "nbformat_minor": 5
}
