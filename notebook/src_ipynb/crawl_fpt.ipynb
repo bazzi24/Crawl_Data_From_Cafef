{
 "cells": [
  {
   "cell_type": "code",
   "execution_count": 1,
   "id": "d057add0",
   "metadata": {},
   "outputs": [],
   "source": [
    "import requests\n",
    "import os\n",
    "import csv\n",
    "import openpyxl\n",
    "from datetime import datetime\n",
    "from bs4 import BeautifulSoup"
   ]
  },
  {
   "cell_type": "code",
   "execution_count": 2,
   "id": "2e86748b",
   "metadata": {},
   "outputs": [],
   "source": [
    "url = 'https://cafef.vn/du-lieu/hose/fpt-cong-ty-co-phan-fpt.chn'"
   ]
  },
  {
   "cell_type": "code",
   "execution_count": 4,
   "id": "2d9aaf9f",
   "metadata": {},
   "outputs": [],
   "source": [
    "response = requests.get(url)\n",
    "soup = BeautifulSoup(response.content, 'html.parser')"
   ]
  },
  {
   "cell_type": "code",
   "execution_count": 5,
   "id": "cb1d4b82",
   "metadata": {},
   "outputs": [
    {
     "name": "stdout",
     "output_type": "stream",
     "text": [
      "FPT\n",
      "15:15 T6, 04/07/2025\n",
      "122.50\n",
      "4.5 (3.81%)\n",
      "12,825,000\n",
      "118\n",
      "126.2\n",
      "109.8\n",
      "118.5\n",
      "123.4\n",
      "118.4\n",
      "3,782,807\n",
      "562.54 (Tỷ)\n",
      "99.14 (Tỷ)\n",
      "8.08 (%)\n"
     ]
    }
   ],
   "source": [
    "# Name\n",
    "artical = soup.find('div', id='symbolbox')\n",
    "print(artical.text.strip() if artical else \"Not found\")\n",
    "# Time\n",
    "artical2 = soup.find('div', id='time__update')\n",
    "print(artical2.text.strip() if artical2 else \"Not found\")\n",
    "# Price\n",
    "artical3 = soup.find('div', id='price__0')\n",
    "print(artical3.text.strip() if artical3 else \"Not found\")\n",
    "# (+/-)\n",
    "artical4 = soup.find('div', id='price__ch')\n",
    "print(artical4.text.strip() if artical4 else \"Not found\")\n",
    "# Volume\n",
    "artical5 = soup.find('div', id='price__vol')\n",
    "print(artical5.text.strip() if artical5 else \"Not found\")\n",
    "# Reference price\n",
    "artical6 = soup.find('div', id='price__ref')\n",
    "print(artical6.text.strip() if artical6 else \"Not found\")\n",
    "# Price ceiling\n",
    "artical7 = soup.find('div', id='price__ceiling')\n",
    "print(artical7.text.strip() if artical7 else \"Not found\")\n",
    "# Floor price\n",
    "artical8 = soup.find('div', id='price__floor')\n",
    "print(artical8.text.strip() if artical8 else \"Not found\")\n",
    "# Opening price\n",
    "artical9 = soup.find('div', id='price__open')\n",
    "print(artical9.text.strip() if artical9 else \"Not found\")\n",
    "# Highest price\n",
    "artical10 = soup.find('div', id='price__high')\n",
    "print(artical10.text.strip() if artical10 else \"Not found\")\n",
    "# Lowest price\n",
    "artical11 = soup.find('div', id='price__low')\n",
    "print(artical11.text.strip() if artical11 else \"Not found\")\n",
    "# Net trading volume\n",
    "artical12 = soup.find('div', id='foregin__buyvol')\n",
    "print(artical12.text.strip() if artical12 else \"Not found\")\n",
    "# Purchase value\n",
    "artical13 = soup.find('div', id='foregin__buyval')\n",
    "print(artical13.text.strip() if artical13 else \"Not found\")\n",
    "# Sale value\n",
    "artical14 = soup.find('div', id='foregin__sellval')\n",
    "print(artical14.text.strip() if artical14 else \"Not found\")\n",
    "# Room remaining\n",
    "artical15 = soup.find('div', id='foregin__room')\n",
    "print(artical15.text.strip() if artical15 else \"Not found\")"
   ]
  },
  {
   "cell_type": "code",
   "execution_count": 7,
   "id": "83db5986",
   "metadata": {},
   "outputs": [
    {
     "name": "stdout",
     "output_type": "stream",
     "text": [
      "Scraping data completed!\n"
     ]
    }
   ],
   "source": [
    "if response.status_code == 200:\n",
    "    def get_text(selector):\n",
    "        el = soup.select_one(selector)\n",
    "        return el.text.strip() if el else ''\n",
    "    \n",
    "    crawl_time = datetime.now()\n",
    "    \n",
    "    data = [\n",
    "        crawl_time,\n",
    "        get_text('div#symbolbox'),\n",
    "        get_text('div#time__update'),\n",
    "        get_text('div#price__0'),\n",
    "        get_text('div#price__ch'),\n",
    "        get_text('div#price__vol'),\n",
    "        get_text('div#price__ref'),\n",
    "        get_text('div#price__ceiling'),\n",
    "        get_text('div#price__floor'),\n",
    "        get_text('div#price__open'),\n",
    "        get_text('div#price__high'),\n",
    "        get_text('div#price__low'),\n",
    "        get_text('div#foregin__buyvol'),\n",
    "        get_text('div#foregin__buyval'),\n",
    "        get_text('div#foregin__sellval'),\n",
    "        get_text('div#foregin__room')\n",
    "    ]\n",
    "    \n",
    "    headers = [\"Thời gian crawl dữ liệu\", \"Tên mã chứng khoán\", \"Cập nhật\", \"Giá kết thúc phiên\", \"Giá so với tham chiếu\", \n",
    "               \"Khối lượng\", \"Giá tham chiếu\", \"Giá trần\", \"Giá sàn\", \"Giá mở cửa\", \"Giá cao nhất\", \n",
    "               \"Giá thấp nhất\", \"KLGD ròng\", \"GT mua\", \"GT bán\", \"Room còn lại\"]\n",
    "    \n",
    "    BASE_DIR = os.path.dirname(os.path.abspath(__file__))\n",
    "    file_path = os.path.join(BASE_DIR, '..', 'file_csv', 'fpt_data.csv')\n",
    "    file_exists = os.path.exists(file_path)\n",
    "    \n",
    "    with open(file_path, 'a', newline='', encoding='utf-8') as file:\n",
    "        writer = csv.writer(file)\n",
    "        if not file_exists:\n",
    "            writer.writerow(headers)\n",
    "        writer.writerow(data)\n",
    "    print(\"Scraping data completed!\")\n",
    "else:\n",
    "    print(\"Scraping data failed!\")"
   ]
  }
 ],
 "metadata": {
  "kernelspec": {
   "display_name": "venv",
   "language": "python",
   "name": "python3"
  },
  "language_info": {
   "codemirror_mode": {
    "name": "ipython",
    "version": 3
   },
   "file_extension": ".py",
   "mimetype": "text/x-python",
   "name": "python",
   "nbconvert_exporter": "python",
   "pygments_lexer": "ipython3",
   "version": "3.12.3"
  }
 },
 "nbformat": 4,
 "nbformat_minor": 5
}
