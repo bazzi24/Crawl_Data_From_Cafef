{
 "cells": [
  {
   "cell_type": "markdown",
   "id": "acebacb0",
   "metadata": {},
   "source": [
    "### Add Import"
   ]
  },
  {
   "cell_type": "code",
   "execution_count": 7,
   "id": "2c3ef8b1",
   "metadata": {},
   "outputs": [],
   "source": [
    "import requests\n",
    "import csv\n",
    "from bs4 import BeautifulSoup\n",
    "import openpyxl #pyright: ignore\n",
    "import os\n",
    "from datetime import datetime"
   ]
  },
  {
   "cell_type": "markdown",
   "id": "822000d1",
   "metadata": {},
   "source": [
    "### Add URL"
   ]
  },
  {
   "cell_type": "code",
   "execution_count": 8,
   "id": "69ddeb42",
   "metadata": {},
   "outputs": [],
   "source": [
    "url = \"https://cafef.vn/du-lieu/hose/vcb-ngan-hang-thuong-mai-co-phan-ngoai-thuong-viet-nam.chn\""
   ]
  },
  {
   "cell_type": "markdown",
   "id": "15e336a4",
   "metadata": {},
   "source": [
    "### Get response from API"
   ]
  },
  {
   "cell_type": "code",
   "execution_count": 9,
   "id": "c6a05e17",
   "metadata": {},
   "outputs": [],
   "source": [
    "response = requests.get(url)\n",
    "soup = BeautifulSoup(response.content, 'html.parser')"
   ]
  },
  {
   "cell_type": "markdown",
   "id": "050d681e",
   "metadata": {},
   "source": [
    "### Find data you need from URL"
   ]
  },
  {
   "cell_type": "code",
   "execution_count": 10,
   "id": "902a5862",
   "metadata": {},
   "outputs": [
    {
     "name": "stdout",
     "output_type": "stream",
     "text": [
      "VCB\n",
      "15:15 T6, 04/07/2025\n",
      "58.40\n",
      "0.5 (0.86%)\n",
      "4,849,700\n",
      "57.9\n",
      "61.9\n",
      "53.9\n",
      "57.9\n",
      "58.8\n",
      "57.8\n",
      "660,789\n",
      "60.86 (Tỷ)\n",
      "22.27 (Tỷ)\n",
      "7.89 (%)\n"
     ]
    }
   ],
   "source": [
    "# Name\n",
    "artical = soup.find('div', class_='symbol')\n",
    "print(artical.text.strip() if artical else \"Not found\")\n",
    "# Time\n",
    "artical2 = soup.find('div', id='time__update')\n",
    "print(artical2.text.strip() if artical2 else \"Not found\")\n",
    "# Price\n",
    "artical3 = soup.find('div', id='price__0')\n",
    "print(artical3.text.strip() if artical3 else \"Not found\")\n",
    "# (+/-)\n",
    "artical4 = soup.find('div', id='price__ch')\n",
    "print(artical4.text.strip() if artical4 else \"Not found\")\n",
    "# Volume\n",
    "artical5 = soup.find('div', id='price__vol')\n",
    "print(artical5.text.strip() if artical5 else \"Not found\")\n",
    "# Reference price\n",
    "artical6 = soup.find('div', id='price__ref')\n",
    "print(artical6.text.strip() if artical6 else \"Not found\")\n",
    "# Price ceiling\n",
    "artical7 = soup.find('div', id='price__ceiling')\n",
    "print(artical7.text.strip() if artical7 else \"Not found\")\n",
    "# Floor price\n",
    "artical8 = soup.find('div', id='price__floor')\n",
    "print(artical8.text.strip() if artical8 else \"Not found\")\n",
    "# Opening price\n",
    "artical9 = soup.find('div', id='price__open')\n",
    "print(artical9.text.strip() if artical9 else \"Not found\")\n",
    "# Highest price\n",
    "artical10 = soup.find('div', id='price__high')\n",
    "print(artical10.text.strip() if artical10 else \"Not found\")\n",
    "# Lowest price\n",
    "artical11 = soup.find('div', id='price__low')\n",
    "print(artical11.text.strip() if artical11 else \"Not found\")\n",
    "# Net trading volume\n",
    "artical12 = soup.find('div', id='foregin__buyvol')\n",
    "print(artical12.text.strip() if artical12 else \"Not found\")\n",
    "# Purchase value\n",
    "artical13 = soup.find('div', id='foregin__buyval')\n",
    "print(artical13.text.strip() if artical13 else \"Not found\")\n",
    "# Sale value\n",
    "artical14 = soup.find('div', id='foregin__sellval')\n",
    "print(artical14.text.strip() if artical14 else \"Not found\")\n",
    "# Room remaining\n",
    "artical15 = soup.find('div', id='foregin__room')\n",
    "print(artical15.text.strip() if artical15 else \"Not found\")"
   ]
  },
  {
   "cell_type": "markdown",
   "id": "c6205e09",
   "metadata": {},
   "source": [
    "### Get data and push to csv"
   ]
  },
  {
   "cell_type": "code",
   "execution_count": 14,
   "id": "7c9ed346",
   "metadata": {},
   "outputs": [
    {
     "name": "stdout",
     "output_type": "stream",
     "text": [
      "Scraping data completed!\n"
     ]
    }
   ],
   "source": [
    "if response.status_code == 200:\n",
    "    soup = BeautifulSoup(response.content, 'html.parser')\n",
    "    \n",
    "    def get_text(selector):\n",
    "        el = soup.select_one(selector)\n",
    "        return el.text.strip() if el else ''\n",
    "    \n",
    "\n",
    "    crawl_time = datetime.now()\n",
    "    \n",
    "    data = [\n",
    "        crawl_time,\n",
    "        get_text('div.symbol'),\n",
    "        get_text('div#time__update'),\n",
    "        get_text('div#price__0'),\n",
    "        get_text('div#price__ch'),\n",
    "        get_text('div#price__vol'),\n",
    "        get_text('div#price__ref'),\n",
    "        get_text('div#price__ceiling'),\n",
    "        get_text('div#price__floor'),\n",
    "        get_text('div#price__open'),\n",
    "        get_text('div#price__high'),\n",
    "        get_text('div#price__low'),\n",
    "        get_text('div#foregin__buyvol'),\n",
    "        get_text('div#foregin__buyval'),\n",
    "        get_text('div#foregin__sellval'),\n",
    "        get_text('div#foregin__room')\n",
    "    ]\n",
    "    \n",
    "    headers = [\"Thời gian crawl dữ liệu\", \"Tên mã chứng khoán\", \"Cập nhật\", \"Giá kết thúc phiên\", \"Giá so với tham chiếu\", \n",
    "               \"Khối lượng\", \"Giá tham chiếu\", \"Giá trần\", \"Giá sàn\", \"Giá mở cửa\", \"Giá cao nhất\", \n",
    "               \"Giá thấp nhất\", \"KLGD ròng\", \"GT mua\", \"GT bán\", \"Room còn lại\"]\n",
    "    \n",
    "    BASE_DIR = os.path.dirname(os.path.abspath(__file__))\n",
    "    file_path = os.path.join(BASE_DIR, '..', 'file_csv', 'vcb_data.csv')\n",
    "    file_exists = os.path.exists(file_path)\n",
    "    with open(file_path, 'a', newline='', encoding='utf-8') as file:\n",
    "        writer = csv.writer(file)\n",
    "        if not file_exists:\n",
    "            writer.writerow(headers)\n",
    "        writer.writerow(data)\n",
    "    print(\"Scraping data completed!\")\n",
    "else:\n",
    "    print(\"Scraping data failed!\")"
   ]
  }
 ],
 "metadata": {
  "kernelspec": {
   "display_name": "venv",
   "language": "python",
   "name": "python3"
  },
  "language_info": {
   "codemirror_mode": {
    "name": "ipython",
    "version": 3
   },
   "file_extension": ".py",
   "mimetype": "text/x-python",
   "name": "python",
   "nbconvert_exporter": "python",
   "pygments_lexer": "ipython3",
   "version": "3.12.3"
  }
 },
 "nbformat": 4,
 "nbformat_minor": 5
}
